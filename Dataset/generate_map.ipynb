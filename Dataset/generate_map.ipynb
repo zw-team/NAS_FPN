{
 "cells": [
  {
   "cell_type": "code",
   "execution_count": 2,
   "metadata": {},
   "outputs": [
    {
     "name": "stdout",
     "output_type": "stream",
     "text": [
      "complete!\n"
     ]
    }
   ],
   "source": [
    "import cv2\n",
    "import numpy as np\n",
    "import scipy\n",
    "import scipy.io as scio\n",
    "from PIL import Image\n",
    "import time\n",
    "import math\n",
    "\n",
    "def get_density_map_gaussian(H, W, ratio_h, ratio_w,  points, adaptive_kernel=False, fixed_value=15):\n",
    "    h = H\n",
    "    w = W\n",
    "    density_map = np.zeros([h, w], dtype=np.float32)\n",
    "    num_gt = np.squeeze(points).shape[0]\n",
    "    if num_gt == 0:\n",
    "        return density_map\n",
    "\n",
    "    for idx, p in enumerate(points):\n",
    "        p = np.round(p).astype(int)\n",
    "        p[0], p[1] = min(h-1, math.floor(p[1] * ratio_h)), min(w-1, math.floor(p[0] * ratio_w))\n",
    "        sigma = fixed_value\n",
    "        sigma = max(1, sigma)\n",
    "\n",
    "        gaussian_radius = 7\n",
    "        gaussian_map = np.multiply(\n",
    "            cv2.getGaussianKernel(gaussian_radius*2+1, sigma),\n",
    "            cv2.getGaussianKernel(gaussian_radius*2+1, sigma).T\n",
    "        )\n",
    "        x_left, x_right, y_up, y_down = 0, gaussian_map.shape[1], 0, gaussian_map.shape[0]\n",
    "        # cut the gaussian kernel\n",
    "        if p[1] < 0 or p[0] < 0:\n",
    "            continue\n",
    "        if p[1] < gaussian_radius:\n",
    "            x_left = gaussian_radius - p[1]\n",
    "        if p[0] < gaussian_radius:\n",
    "            y_up = gaussian_radius - p[0]\n",
    "        if p[1] + gaussian_radius >= w:\n",
    "            x_right = gaussian_map.shape[1] - (gaussian_radius + p[1] - w) - 1\n",
    "        if p[0] + gaussian_radius >= h:\n",
    "            y_down = gaussian_map.shape[0] - (gaussian_radius + p[0] - h) - 1\n",
    "        density_map[\n",
    "            max(0, p[0]-gaussian_radius):min(h, p[0]+gaussian_radius+1),\n",
    "            max(0, p[1]-gaussian_radius):min(w, p[1]+gaussian_radius+1)\n",
    "        ] += gaussian_map[y_up:y_down, x_left:x_right]\n",
    "    return density_map\n",
    "\n",
    "\n",
    "# 22, 37\n",
    "if __name__ == \"__main__\":\n",
    "    image_dir_path = \"/data/wangyezhen/datasets/part_B_final/train_data/images\"\n",
    "    ground_truth_dir_path = \"/data/wangyezhen/datasets/part_B_final/train_data/ground_truth\"\n",
    "    output_gt_dir = \"/data/wangyezhen/datasets/part_B_final/train_data/gt_map_sigma=4_k=7\"\n",
    "    for i in range(400):\n",
    "        img_path = image_dir_path + \"/IMG_\" + str(i + 1) + \".jpg\"\n",
    "        gt_path = ground_truth_dir_path + \"/GT_IMG_\" + str(i + 1) + \".mat\"\n",
    "        img = Image.open(img_path)\n",
    "        height = img.size[1]\n",
    "        width = img.size[0]\n",
    "        points = scio.loadmat(gt_path)['image_info'][0][0][0][0][0]\n",
    "        \n",
    "        resize_height = height\n",
    "        resize_width = width\n",
    "        \n",
    "        if resize_height <= 416:\n",
    "            tmp = resize_height\n",
    "            resize_height = 416\n",
    "            resize_width = (resize_height / tmp) * resize_width\n",
    "            \n",
    "        if resize_width <= 416:\n",
    "            tmp = resize_width\n",
    "            resize_width = 416\n",
    "            resize_height = (resize_width / tmp) * resize_height\n",
    "            \n",
    "        resize_height = math.ceil(resize_height / 32) * 32\n",
    "        resize_width = math.ceil(resize_width / 32) * 32\n",
    "        \n",
    "        ratio_h = (resize_height) / (height)\n",
    "        ratio_w = (resize_width) / (width)\n",
    "        # print(height, width, ratio_h, ratio_w)\n",
    "        gt = get_density_map_gaussian(resize_height, resize_width, ratio_h, ratio_w, points, False, 4)\n",
    "        gt = np.reshape(gt, [resize_height, resize_width])  # transpose into w, h\n",
    "        np.save(output_gt_dir + \"/GT_IMG_\" + str(i + 1), gt)\n",
    "    print(\"complete!\")"
   ]
  },
  {
   "cell_type": "code",
   "execution_count": 1,
   "metadata": {},
   "outputs": [
    {
     "ename": "ModuleNotFoundError",
     "evalue": "No module named 'torch'",
     "output_type": "error",
     "traceback": [
      "\u001b[0;31m---------------------------------------------------------------------------\u001b[0m",
      "\u001b[0;31mModuleNotFoundError\u001b[0m                       Traceback (most recent call last)",
      "\u001b[0;32m<ipython-input-1-971f509a3739>\u001b[0m in \u001b[0;36m<module>\u001b[0;34m()\u001b[0m\n\u001b[0;32m----> 1\u001b[0;31m \u001b[0;32mimport\u001b[0m \u001b[0mtorch\u001b[0m\u001b[0;34m\u001b[0m\u001b[0m\n\u001b[0m\u001b[1;32m      2\u001b[0m \u001b[0;32mimport\u001b[0m \u001b[0mtorchvision\u001b[0m\u001b[0;34m\u001b[0m\u001b[0m\n\u001b[1;32m      3\u001b[0m \u001b[0mprint\u001b[0m\u001b[0;34m(\u001b[0m\u001b[0mtorch\u001b[0m\u001b[0;34m.\u001b[0m\u001b[0m__version__\u001b[0m\u001b[0;34m)\u001b[0m\u001b[0;34m\u001b[0m\u001b[0m\n",
      "\u001b[0;31mModuleNotFoundError\u001b[0m: No module named 'torch'"
     ]
    }
   ],
   "source": [
    "import torch\n",
    "import torchvision\n",
    "print(torch.__version__)"
   ]
  },
  {
   "cell_type": "code",
   "execution_count": 2,
   "metadata": {},
   "outputs": [
    {
     "data": {
      "text/plain": [
       "'/home/get_kill/.conda/envs/pytorch_wyz/bin/python'"
      ]
     },
     "execution_count": 2,
     "metadata": {},
     "output_type": "execute_result"
    }
   ],
   "source": [
    "import sys\n",
    "sys.executable"
   ]
  },
  {
   "cell_type": "code",
   "execution_count": 3,
   "metadata": {},
   "outputs": [
    {
     "data": {
      "text/plain": [
       "'3.1.0'"
      ]
     },
     "execution_count": 3,
     "metadata": {},
     "output_type": "execute_result"
    }
   ],
   "source": [
    "import cv2\n",
    "cv2.__version__"
   ]
  },
  {
   "cell_type": "code",
   "execution_count": 2,
   "metadata": {
    "collapsed": true
   },
   "outputs": [
    {
     "data": {
      "text/plain": [
       "['',\n",
       " '/home/get_kill/.conda/envs/pytorch_wyz/lib/python36.zip',\n",
       " '/home/get_kill/.conda/envs/pytorch_wyz/lib/python3.6',\n",
       " '/home/get_kill/.conda/envs/pytorch_wyz/lib/python3.6/lib-dynload',\n",
       " '/home/get_kill/.local/lib/python3.6/site-packages',\n",
       " '/home/get_kill/.conda/envs/pytorch_wyz/lib/python3.6/site-packages',\n",
       " '/home/get_kill/.conda/envs/pytorch_wyz/lib/python3.6/site-packages/IPython/extensions',\n",
       " '/home/get_kill/.ipython']"
      ]
     },
     "execution_count": 2,
     "metadata": {},
     "output_type": "execute_result"
    }
   ],
   "source": [
    "import sys\n",
    "sys.path"
   ]
  },
  {
   "cell_type": "code",
   "execution_count": null,
   "metadata": {},
   "outputs": [],
   "source": []
  }
 ],
 "metadata": {
  "kernelspec": {
   "display_name": "Python 3",
   "language": "python",
   "name": "python3"
  },
  "language_info": {
   "codemirror_mode": {
    "name": "ipython",
    "version": 3
   },
   "file_extension": ".py",
   "mimetype": "text/x-python",
   "name": "python",
   "nbconvert_exporter": "python",
   "pygments_lexer": "ipython3",
   "version": "3.6.8"
  }
 },
 "nbformat": 4,
 "nbformat_minor": 2
}
